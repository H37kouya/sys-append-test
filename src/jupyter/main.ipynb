{
 "cells": [
  {
   "cell_type": "code",
   "execution_count": 2,
   "metadata": {},
   "outputs": [
    {
     "name": "stdout",
     "output_type": "stream",
     "text": [
      "/Users/h37kouya/code/python/sys_append-test/src/jupyter\n"
     ]
    }
   ],
   "source": [
    "import os\n",
    "import sys\n",
    "from pathlib import Path\n",
    "print(os.path.abspath(os.path.join(Path().resolve(), '')))\n",
    "sys.path.append(\n",
    "    os.path.abspath(os.path.join(Path().resolve(), '../'))\n",
    ")"
   ]
  },
  {
   "cell_type": "code",
   "execution_count": 3,
   "metadata": {},
   "outputs": [
    {
     "name": "stdout",
     "output_type": "stream",
     "text": [
      "/Users/h37kouya/code/python/sys_append-test/src/app\n",
      "hello\n"
     ]
    }
   ],
   "source": [
    "import app.main\n",
    "\n",
    "app.main.hello()"
   ]
  },
  {
   "cell_type": "markdown",
   "metadata": {},
   "source": [
    "# Hello World"
   ]
  }
 ],
 "metadata": {
  "interpreter": {
   "hash": "49825369393862ccef6333399ddaace555b98a0499243d7aea047c08f1cf8ab9"
  },
  "kernelspec": {
   "display_name": "Python 3.9.4 ('lib-python-study')",
   "language": "python",
   "name": "python3"
  },
  "language_info": {
   "codemirror_mode": {
    "name": "ipython",
    "version": 3
   },
   "file_extension": ".py",
   "mimetype": "text/x-python",
   "name": "python",
   "nbconvert_exporter": "python",
   "pygments_lexer": "ipython3",
   "version": "3.9.4"
  },
  "orig_nbformat": 4
 },
 "nbformat": 4,
 "nbformat_minor": 2
}
